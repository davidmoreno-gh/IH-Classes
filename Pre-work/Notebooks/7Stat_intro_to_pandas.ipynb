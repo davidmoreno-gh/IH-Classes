{
 "cells": [
  {
   "cell_type": "markdown",
   "id": "2d0baf62-a5fb-4536-b426-993f86980643",
   "metadata": {},
   "source": [
    "# Introduction to Pandas library"
   ]
  },
  {
   "cell_type": "markdown",
   "id": "55864c21-769b-424e-baec-170056153887",
   "metadata": {
    "jp-MarkdownHeadingCollapsed": true
   },
   "source": [
    "## What is Pandas?"
   ]
  },
  {
   "cell_type": "markdown",
   "id": "cf394c68-521d-430e-a5d6-18ca84d2990b",
   "metadata": {},
   "source": [
    "Pandas is a powerful and widely-used open-source library in Python for data manipulation and analysis. It provides data structures and functions to efficiently handle structured data, such as tables or spreadsheets."
   ]
  },
  {
   "cell_type": "markdown",
   "id": "81fe5885-6cba-4a1d-9c90-b685dc8fd106",
   "metadata": {},
   "source": [
    "Below is an example of structured data, such as a table with columns and rows:"
   ]
  },
  {
   "cell_type": "markdown",
   "id": "57aaa899-5acf-44cc-ae6f-98dd1014ccf5",
   "metadata": {},
   "source": [
    "<div style=\"text-align:center\">\n",
    "    <img src=\"https://github.com/data-bootcamp-v4/prework_img/blob/main/column_row.png?raw=true\" alt=\"Image\" style=\"width:60%;\">\n",
    "</div>\n"
   ]
  },
  {
   "cell_type": "markdown",
   "id": "45913bd8-98b8-4a23-9155-6b62f818a98c",
   "metadata": {},
   "source": [
    "We will give a short introduction to Pandas so we can do Descriptive Statistics with tabular data (data with columns and rows)."
   ]
  },
  {
   "cell_type": "markdown",
   "id": "9b6775cd-f860-4d7e-9db0-643bc775a4c3",
   "metadata": {
    "jp-MarkdownHeadingCollapsed": true
   },
   "source": [
    "## Key Components"
   ]
  },
  {
   "cell_type": "markdown",
   "id": "66bda350-7dd5-4b16-982f-8e96f7bf8d77",
   "metadata": {},
   "source": [
    "The essential data structures in the Pandas library are Pandas DataFrames and Series:\n",
    "- **DataFrames**\n",
    "    - DataFrames are **two-dimensional tabular data** structures in Pandas, similar to a **spreadsheet table**.\n",
    "    - Each **column** in a DataFrame represents a **variable**, while each **row** represents an **observation** or data point.\n",
    "    - DataFrames allow us to store, manipulate, and analyze structured data efficiently."
   ]
  },
  {
   "cell_type": "markdown",
   "id": "24f0e935-556a-4bb7-9902-5fd279160ff4",
   "metadata": {},
   "source": [
    "Let's look into it with an image. As we mentioned, each column is a variable and each row is an observation. The whole table is called a `Pandas DataFrame`."
   ]
  },
  {
   "cell_type": "markdown",
   "id": "ade933ad-04ff-45cb-b661-2219a60124ae",
   "metadata": {},
   "source": [
    "<div style=\"text-align:center\">\n",
    "    <img src=\"https://github.com/data-bootcamp-v4/prework_img/blob/main/variable_observation.png?raw=true\" alt=\"Image\" style=\"width:60%;\">\n",
    "</div>"
   ]
  },
  {
   "cell_type": "markdown",
   "id": "956f6ec2-e8e5-475f-9bbd-2b8989994500",
   "metadata": {},
   "source": [
    "- **Series**\n",
    "    - Series are one-dimensional labeled arrays in Pandas.\n",
    "    - They are used to **represent a single column or variable** and to represent **a single row** in a DataFrame.\n",
    "    - Series can store various types of data, such as numbers, strings, or dates."
   ]
  },
  {
   "cell_type": "markdown",
   "id": "a78ecb47-8d30-447f-a13f-9df0b7671a1f",
   "metadata": {},
   "source": [
    "As we can see in the following image, the `Pandas DataFrame` is the whole table, and each row and each column is of type `Pandas Series`"
   ]
  },
  {
   "cell_type": "markdown",
   "id": "48b07451-caf9-4849-9542-2463eb76728d",
   "metadata": {},
   "source": [
    "<div style=\"text-align:center\">\n",
    "    <img src=\"https://github.com/data-bootcamp-v4/prework_img/blob/main/dataframe_series.png?raw=true\" alt=\"Image\" style=\"width:70%;\">\n",
    "</div>\n"
   ]
  },
  {
   "cell_type": "markdown",
   "id": "7f4292ad-c5c8-4f0e-b452-18e0f63d5570",
   "metadata": {},
   "source": [
    "In Pandas, there are two types of labels used to access data in a DataFrame: row index labels and column labels.\n",
    "\n",
    "- Row Index Labels:\n",
    "\n",
    "    - Row index labels are the labels assigned to each row in a DataFrame.\n",
    "    - They provide a unique identifier for each row and allow us to access specific rows using their labels.\n",
    "    - Row index labels are not considered as a separate \"column\" in the DataFrame.\n",
    "\n",
    "- Column Labels:\n",
    "\n",
    "    - Column labels refer to the names assigned to each column in a DataFrame.\n",
    "    - They serve as identifiers for the columns and allow us to access specific columns using their labels.\n",
    "    - Column names are considered the column labels in a DataFrame.\n"
   ]
  },
  {
   "cell_type": "markdown",
   "id": "6ace2a4b-f3b2-40e5-a1c1-367c84004585",
   "metadata": {},
   "source": [
    "<div style=\"text-align:center\">\n",
    "    <img src=\"https://github.com/data-bootcamp-v4/prework_img/blob/main/row_column_label_index.png?raw=true\" alt=\"Image\" style=\"width:70%;\">\n",
    "</div>\n"
   ]
  },
  {
   "cell_type": "markdown",
   "id": "3c1c314c-e624-4d90-bbbc-d49ca853e2b5",
   "metadata": {},
   "source": [
    "Let's look at the image above.\n",
    "\n",
    "- Row Index Labels: In this example, the row index labels are automatically generated and shown as 0, 1, and 2. They are not considered a separate column.\n",
    "- Column Labels: The column labels are \"PassengerId\", \"Survived\", \"Pclass\", \"Name\", and \"Sex\". These names represent the columns in the DataFrame."
   ]
  },
  {
   "cell_type": "markdown",
   "id": "f14efd16-d76a-4c49-8b24-34509c955e8a",
   "metadata": {
    "jp-MarkdownHeadingCollapsed": true
   },
   "source": [
    "## Importing Pandas\n",
    "\n",
    "To use Pandas, you need to import the library. Conventionally, we import Pandas using the alias pd. \n",
    "Example: \n",
    "```python\n",
    "import pandas as pd\n",
    "```\n",
    "\n",
    "This imports Pandas and assigns it the alias \"pd\" for easier usage."
   ]
  },
  {
   "cell_type": "code",
   "execution_count": 1,
   "id": "2ed148c8-dc9c-41b9-8560-e1d0fa965134",
   "metadata": {},
   "outputs": [],
   "source": [
    "import pandas as pd"
   ]
  },
  {
   "cell_type": "markdown",
   "id": "05d8808e-c937-4477-9d3b-7c6916ceba30",
   "metadata": {},
   "source": [
    "Aliases are commonly used in programming for convenience and brevity. When working with libraries, we can use a dot . operator to access their predefined functions. However, rather than repeatedly typing the complete library name, programmers often opt for shorter aliases. For example: \n",
    "- Intead of doing `pandas.read_csv(...)`\n",
    "- Giving an alias, as pd, we get to do `pd.read_csv(...)`"
   ]
  },
  {
   "cell_type": "markdown",
   "id": "373b5327-66f2-4f86-bb71-ac5eccc88b89",
   "metadata": {
    "jp-MarkdownHeadingCollapsed": true
   },
   "source": [
    "## Loading data\n",
    "\n",
    "Pandas can read data from various sources, such as CSV files, Excel files, or databases.\n",
    "\n",
    "To read data from a CSV file, use the `read_csv()` function provided by Pandas.\n",
    "\n",
    "Syntax: \n",
    "```python\n",
    "df = pd.read_csv('filename.csv')\n",
    "```\n",
    "Replace 'filename.csv' with the actual path and name of your CSV file. This loads the `filename` dataset from a CSV file and stores it in a DataFrame called df.\n",
    "\n",
    "Observation: we can also read from an online URL that takes you to the CSV file."
   ]
  },
  {
   "cell_type": "code",
   "execution_count": 3,
   "id": "f3d8398d-8a57-4684-8f10-9d5fdef85862",
   "metadata": {},
   "outputs": [],
   "source": [
    "# We can read from an online URL\n",
    "titanic_data = pd.read_csv('https://raw.githubusercontent.com/data-bootcamp-v4/prework_data/main/titanic.csv')"
   ]
  },
  {
   "cell_type": "markdown",
   "id": "f76629b5-b1cf-4fcc-b52d-763dfab7ece5",
   "metadata": {
    "tags": []
   },
   "source": [
    "## Displaying Data\n",
    "\n",
    "- To get an overview of the data, you can display the first few rows using the head() function.\n",
    "\n",
    "Example: \n",
    "```python \n",
    "data.head()\n",
    "``` \n",
    "This displays the first five rows of the DataFrame data."
   ]
  },
  {
   "cell_type": "code",
   "execution_count": 5,
   "id": "f69c30fe-4b60-4427-9a64-39688eda7c63",
   "metadata": {},
   "outputs": [
    {
     "data": {
      "text/html": [
       "<div>\n",
       "<style scoped>\n",
       "    .dataframe tbody tr th:only-of-type {\n",
       "        vertical-align: middle;\n",
       "    }\n",
       "\n",
       "    .dataframe tbody tr th {\n",
       "        vertical-align: top;\n",
       "    }\n",
       "\n",
       "    .dataframe thead th {\n",
       "        text-align: right;\n",
       "    }\n",
       "</style>\n",
       "<table border=\"1\" class=\"dataframe\">\n",
       "  <thead>\n",
       "    <tr style=\"text-align: right;\">\n",
       "      <th></th>\n",
       "      <th>PassengerId</th>\n",
       "      <th>Survived</th>\n",
       "      <th>Pclass</th>\n",
       "      <th>Name</th>\n",
       "      <th>Sex</th>\n",
       "      <th>Age</th>\n",
       "      <th>SibSp</th>\n",
       "      <th>Parch</th>\n",
       "      <th>Ticket</th>\n",
       "      <th>Fare</th>\n",
       "      <th>Cabin</th>\n",
       "      <th>Embarked</th>\n",
       "    </tr>\n",
       "  </thead>\n",
       "  <tbody>\n",
       "    <tr>\n",
       "      <th>0</th>\n",
       "      <td>1</td>\n",
       "      <td>0</td>\n",
       "      <td>3</td>\n",
       "      <td>Braund, Mr. Owen Harris</td>\n",
       "      <td>male</td>\n",
       "      <td>22.0</td>\n",
       "      <td>1</td>\n",
       "      <td>0</td>\n",
       "      <td>A/5 21171</td>\n",
       "      <td>7.2500</td>\n",
       "      <td>NaN</td>\n",
       "      <td>S</td>\n",
       "    </tr>\n",
       "    <tr>\n",
       "      <th>1</th>\n",
       "      <td>2</td>\n",
       "      <td>1</td>\n",
       "      <td>1</td>\n",
       "      <td>Cumings, Mrs. John Bradley (Florence Briggs Th...</td>\n",
       "      <td>female</td>\n",
       "      <td>38.0</td>\n",
       "      <td>1</td>\n",
       "      <td>0</td>\n",
       "      <td>PC 17599</td>\n",
       "      <td>71.2833</td>\n",
       "      <td>C85</td>\n",
       "      <td>C</td>\n",
       "    </tr>\n",
       "    <tr>\n",
       "      <th>2</th>\n",
       "      <td>3</td>\n",
       "      <td>1</td>\n",
       "      <td>3</td>\n",
       "      <td>Heikkinen, Miss. Laina</td>\n",
       "      <td>female</td>\n",
       "      <td>26.0</td>\n",
       "      <td>0</td>\n",
       "      <td>0</td>\n",
       "      <td>STON/O2. 3101282</td>\n",
       "      <td>7.9250</td>\n",
       "      <td>NaN</td>\n",
       "      <td>S</td>\n",
       "    </tr>\n",
       "    <tr>\n",
       "      <th>3</th>\n",
       "      <td>4</td>\n",
       "      <td>1</td>\n",
       "      <td>1</td>\n",
       "      <td>Futrelle, Mrs. Jacques Heath (Lily May Peel)</td>\n",
       "      <td>female</td>\n",
       "      <td>35.0</td>\n",
       "      <td>1</td>\n",
       "      <td>0</td>\n",
       "      <td>113803</td>\n",
       "      <td>53.1000</td>\n",
       "      <td>C123</td>\n",
       "      <td>S</td>\n",
       "    </tr>\n",
       "    <tr>\n",
       "      <th>4</th>\n",
       "      <td>5</td>\n",
       "      <td>0</td>\n",
       "      <td>3</td>\n",
       "      <td>Allen, Mr. William Henry</td>\n",
       "      <td>male</td>\n",
       "      <td>35.0</td>\n",
       "      <td>0</td>\n",
       "      <td>0</td>\n",
       "      <td>373450</td>\n",
       "      <td>8.0500</td>\n",
       "      <td>NaN</td>\n",
       "      <td>S</td>\n",
       "    </tr>\n",
       "  </tbody>\n",
       "</table>\n",
       "</div>"
      ],
      "text/plain": [
       "   PassengerId  Survived  Pclass  \\\n",
       "0            1         0       3   \n",
       "1            2         1       1   \n",
       "2            3         1       3   \n",
       "3            4         1       1   \n",
       "4            5         0       3   \n",
       "\n",
       "                                                Name     Sex   Age  SibSp  \\\n",
       "0                            Braund, Mr. Owen Harris    male  22.0      1   \n",
       "1  Cumings, Mrs. John Bradley (Florence Briggs Th...  female  38.0      1   \n",
       "2                             Heikkinen, Miss. Laina  female  26.0      0   \n",
       "3       Futrelle, Mrs. Jacques Heath (Lily May Peel)  female  35.0      1   \n",
       "4                           Allen, Mr. William Henry    male  35.0      0   \n",
       "\n",
       "   Parch            Ticket     Fare Cabin Embarked  \n",
       "0      0         A/5 21171   7.2500   NaN        S  \n",
       "1      0          PC 17599  71.2833   C85        C  \n",
       "2      0  STON/O2. 3101282   7.9250   NaN        S  \n",
       "3      0            113803  53.1000  C123        S  \n",
       "4      0            373450   8.0500   NaN        S  "
      ]
     },
     "execution_count": 5,
     "metadata": {},
     "output_type": "execute_result"
    }
   ],
   "source": [
    "# Display the first few rows of the dataset\n",
    "titanic_data.head()"
   ]
  },
  {
   "cell_type": "markdown",
   "id": "e7e881cc-3021-4e50-8e85-5241855c2351",
   "metadata": {
    "jp-MarkdownHeadingCollapsed": true
   },
   "source": [
    "## Number of columns and rows\n",
    "\n",
    "We can use \n",
    "```python\n",
    "data.shape\n",
    "```\n",
    "\n",
    "to get information about the number of rows and columns present in the DataFrame.\n",
    "\n",
    "The `data.shape` returns a tuple representing the dimensions of the DataFrame. The returned tuple has two values: the first value represents the number of rows, and the second value represents the number of columns in the DataFrame."
   ]
  },
  {
   "cell_type": "code",
   "execution_count": 7,
   "id": "ae955cb2-2746-4fc7-843a-cb1a24abc988",
   "metadata": {},
   "outputs": [
    {
     "data": {
      "text/plain": [
       "(891, 12)"
      ]
     },
     "execution_count": 7,
     "metadata": {},
     "output_type": "execute_result"
    }
   ],
   "source": [
    "titanic_data.shape"
   ]
  },
  {
   "cell_type": "markdown",
   "id": "39024aeb-7980-4a6a-ba1e-0fd6f0f230fb",
   "metadata": {
    "jp-MarkdownHeadingCollapsed": true
   },
   "source": [
    "## Accessing Columns\n",
    "\n",
    "You can access individual columns of a DataFrame using square brackets `[]`.\n",
    "\n",
    "Example: \n",
    "```python\n",
    "data['Age']\n",
    "```\n",
    "\n",
    "This retrieves the 'Age' column from the DataFrame data."
   ]
  },
  {
   "cell_type": "code",
   "execution_count": 9,
   "id": "bb9edc1d-c3e9-435d-bc71-3fd4255ef91b",
   "metadata": {},
   "outputs": [
    {
     "data": {
      "text/plain": [
       "0      22.0\n",
       "1      38.0\n",
       "2      26.0\n",
       "3      35.0\n",
       "4      35.0\n",
       "       ... \n",
       "886    27.0\n",
       "887    19.0\n",
       "888     NaN\n",
       "889    26.0\n",
       "890    32.0\n",
       "Name: Age, Length: 891, dtype: float64"
      ]
     },
     "execution_count": 9,
     "metadata": {},
     "output_type": "execute_result"
    }
   ],
   "source": [
    "titanic_data[\"Age\"]"
   ]
  },
  {
   "cell_type": "markdown",
   "id": "0bce7c4b-b931-46f9-b048-45b9b4fc405b",
   "metadata": {},
   "source": [
    "Please note that column names in pandas DataFrames are **case-sensitive**. This means that when referencing or manipulating column names, you need to use the exact casing as defined in the DataFrame. Using different cases will result in an error or lead to unexpected behavior."
   ]
  },
  {
   "cell_type": "markdown",
   "id": "0caf5773-9135-4ee4-9e04-fe5111a1737d",
   "metadata": {},
   "source": [
    "## Series Operations\n",
    "\n",
    "You can perform various operations on a Series, such as selecting specific values, applying mathematical calculations, or aggregating data.\n",
    "\n",
    "Example: \n",
    "```python\n",
    "data['Age'].mean()\n",
    "```\n",
    "will calculate the mean of the 'Age' column."
   ]
  },
  {
   "cell_type": "code",
   "execution_count": 11,
   "id": "e024566c-9a9a-4606-9c20-b2b421eafa68",
   "metadata": {},
   "outputs": [
    {
     "data": {
      "text/plain": [
       "29.69911764705882"
      ]
     },
     "execution_count": 11,
     "metadata": {},
     "output_type": "execute_result"
    }
   ],
   "source": [
    "titanic_data[\"Age\"].mean()"
   ]
  },
  {
   "cell_type": "markdown",
   "id": "af0282d1-1acf-4058-8cca-fd1fb23a5edc",
   "metadata": {},
   "source": [
    "💡 Check for understanding: try it yourself! Look for other numerical variables, such as Fare, and calculate the mean. "
   ]
  },
  {
   "cell_type": "code",
   "execution_count": 13,
   "id": "ca451223-799a-4efa-8be2-b12d2312fbf6",
   "metadata": {},
   "outputs": [
    {
     "data": {
      "text/plain": [
       "32.204207968574636"
      ]
     },
     "execution_count": 13,
     "metadata": {},
     "output_type": "execute_result"
    }
   ],
   "source": [
    "titanic_data[\"Fare\"].mean()"
   ]
  },
  {
   "cell_type": "code",
   "execution_count": null,
   "id": "d91edbad-b3cb-42c0-ab0e-9897faeceed7",
   "metadata": {},
   "outputs": [],
   "source": []
  }
 ],
 "metadata": {
  "kernelspec": {
   "display_name": "Python 3 (ipykernel)",
   "language": "python",
   "name": "python3"
  },
  "language_info": {
   "codemirror_mode": {
    "name": "ipython",
    "version": 3
   },
   "file_extension": ".py",
   "mimetype": "text/x-python",
   "name": "python",
   "nbconvert_exporter": "python",
   "pygments_lexer": "ipython3",
   "version": "3.11.7"
  }
 },
 "nbformat": 4,
 "nbformat_minor": 5
}
