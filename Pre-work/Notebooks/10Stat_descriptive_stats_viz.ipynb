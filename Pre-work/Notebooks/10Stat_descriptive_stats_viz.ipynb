{
 "cells": [
  {
   "cell_type": "markdown",
   "id": "53378ff7-9652-4d94-bf62-4b07a96637ee",
   "metadata": {},
   "source": [
    "# Descriptive Statistics"
   ]
  },
  {
   "cell_type": "markdown",
   "id": "2b7a802f-6965-4314-b37c-6e00197088d1",
   "metadata": {},
   "source": [
    "In this hands-on lesson, we will explore descriptive statistics using the Titanic dataset, a popular dataset often used for introductory data analysis.\n",
    "\n",
    "In this following lesson, we will explore graphical techniques."
   ]
  },
  {
   "cell_type": "markdown",
   "id": "88f8dd07-9204-4614-bca7-26102b75468d",
   "metadata": {
    "jp-MarkdownHeadingCollapsed": true
   },
   "source": [
    "## Using Seaborn library"
   ]
  },
  {
   "cell_type": "markdown",
   "id": "1619cafd-fc63-45a1-9633-64665734ff0c",
   "metadata": {},
   "source": [
    "We will use Seaborn library. Seaborn is a Python data visualization library that provides a high-level interface for creating visually appealing statistical graphics. We use Seaborn because it offers easy-to-use functions and built-in styles that enhance the presentation of data visualizations.\n",
    "\n",
    "To install Seaborn, you can run `!pip install seaborn` in a code cell. Once installed, you can import Seaborn using `import seaborn as sns`."
   ]
  },
  {
   "cell_type": "code",
   "execution_count": 1,
   "id": "109b6cd0-bf12-4754-9de4-a08710edd3b8",
   "metadata": {},
   "outputs": [
    {
     "name": "stdout",
     "output_type": "stream",
     "text": [
      "Requirement already satisfied: seaborn in c:\\users\\carlos\\anaconda3\\lib\\site-packages (0.12.2)\n",
      "Requirement already satisfied: numpy!=1.24.0,>=1.17 in c:\\users\\carlos\\anaconda3\\lib\\site-packages (from seaborn) (1.26.4)\n",
      "Requirement already satisfied: pandas>=0.25 in c:\\users\\carlos\\anaconda3\\lib\\site-packages (from seaborn) (2.1.4)\n",
      "Requirement already satisfied: matplotlib!=3.6.1,>=3.1 in c:\\users\\carlos\\anaconda3\\lib\\site-packages (from seaborn) (3.8.0)\n",
      "Requirement already satisfied: contourpy>=1.0.1 in c:\\users\\carlos\\anaconda3\\lib\\site-packages (from matplotlib!=3.6.1,>=3.1->seaborn) (1.2.0)\n",
      "Requirement already satisfied: cycler>=0.10 in c:\\users\\carlos\\anaconda3\\lib\\site-packages (from matplotlib!=3.6.1,>=3.1->seaborn) (0.11.0)\n",
      "Requirement already satisfied: fonttools>=4.22.0 in c:\\users\\carlos\\anaconda3\\lib\\site-packages (from matplotlib!=3.6.1,>=3.1->seaborn) (4.25.0)\n",
      "Requirement already satisfied: kiwisolver>=1.0.1 in c:\\users\\carlos\\anaconda3\\lib\\site-packages (from matplotlib!=3.6.1,>=3.1->seaborn) (1.4.4)\n",
      "Requirement already satisfied: packaging>=20.0 in c:\\users\\carlos\\anaconda3\\lib\\site-packages (from matplotlib!=3.6.1,>=3.1->seaborn) (23.1)\n",
      "Requirement already satisfied: pillow>=6.2.0 in c:\\users\\carlos\\anaconda3\\lib\\site-packages (from matplotlib!=3.6.1,>=3.1->seaborn) (10.2.0)\n",
      "Requirement already satisfied: pyparsing>=2.3.1 in c:\\users\\carlos\\anaconda3\\lib\\site-packages (from matplotlib!=3.6.1,>=3.1->seaborn) (3.0.9)\n",
      "Requirement already satisfied: python-dateutil>=2.7 in c:\\users\\carlos\\anaconda3\\lib\\site-packages (from matplotlib!=3.6.1,>=3.1->seaborn) (2.8.2)\n",
      "Requirement already satisfied: pytz>=2020.1 in c:\\users\\carlos\\anaconda3\\lib\\site-packages (from pandas>=0.25->seaborn) (2023.3.post1)\n",
      "Requirement already satisfied: tzdata>=2022.1 in c:\\users\\carlos\\anaconda3\\lib\\site-packages (from pandas>=0.25->seaborn) (2023.3)\n",
      "Requirement already satisfied: six>=1.5 in c:\\users\\carlos\\anaconda3\\lib\\site-packages (from python-dateutil>=2.7->matplotlib!=3.6.1,>=3.1->seaborn) (1.16.0)\n"
     ]
    }
   ],
   "source": [
    "!pip install seaborn"
   ]
  },
  {
   "cell_type": "code",
   "execution_count": 5,
   "id": "36c904a9-bc1e-4cad-9c45-bac17e73400d",
   "metadata": {},
   "outputs": [],
   "source": [
    "import seaborn as sns"
   ]
  },
  {
   "cell_type": "markdown",
   "id": "fe28f514-d663-4903-ad09-c594ad182878",
   "metadata": {},
   "source": [
    "If you are still getting a \"ModuleNotFoundError\" after installing Seaborn, there might be an issue with your Python environment. \n",
    "- Check if Seaborn is installed: Run `!pip show seaborn` in a code cell to see if Seaborn is listed as an installed package. If it's not listed, it means the installation was not successful. In that case, try reinstalling Seaborn using `!pip install seaborn`.\n",
    "- Verify the Python environment: Ensure that you are running the Jupyter Notebook or Python script in the correct Python environment where Seaborn is installed. If you are using virtual environments, make sure you have activated the correct environment."
   ]
  },
  {
   "cell_type": "code",
   "execution_count": 7,
   "id": "1319b72f-54e1-485c-b067-dbc8b3fb7905",
   "metadata": {},
   "outputs": [
    {
     "name": "stdout",
     "output_type": "stream",
     "text": [
      "Name: seaborn\n",
      "Version: 0.12.2\n",
      "Summary: Statistical data visualization\n",
      "Home-page: \n",
      "Author: \n",
      "Author-email: Michael Waskom <mwaskom@gmail.com>\n",
      "License: \n",
      "Location: C:\\Users\\Carlos\\anaconda3\\Lib\\site-packages\n",
      "Requires: matplotlib, numpy, pandas\n",
      "Required-by: \n"
     ]
    }
   ],
   "source": [
    "!pip show seaborn"
   ]
  },
  {
   "cell_type": "markdown",
   "id": "08c97ab6-400a-4887-bc5e-fb97da31ea10",
   "metadata": {},
   "source": [
    "## Quick look at the dataset"
   ]
  },
  {
   "cell_type": "code",
   "execution_count": 9,
   "id": "84575c7d-4023-4dd7-8a01-1d2088bb8c97",
   "metadata": {},
   "outputs": [],
   "source": [
    "# Let's start by importing pandas and reading the titanic dataset\n",
    "import pandas as pd\n",
    "\n",
    "# We can read from an online URL\n",
    "titanic_data = pd.read_csv('https://raw.githubusercontent.com/data-bootcamp-v4/prework_data/main/titanic.csv')"
   ]
  },
  {
   "cell_type": "markdown",
   "id": "9d61baed-bbae-4ff1-a420-2c9d3f74127e",
   "metadata": {},
   "source": [
    "Here is a description of the titanic dataset variables to get a better understanding of the data:\n",
    "- PassengerId: an Id to identify each passenger.\n",
    "- Survived: Whether the passenger survived (0 = No, 1 = Yes)\n",
    "- Pclass: Passenger class (1 = 1st class, 2 = 2nd class, 3 = 3rd class)\n",
    "- Name: Passenger's name\n",
    "- Sex: Passenger's gender (Male or Female)\n",
    "- Age: Passenger's age in years\n",
    "- SibSp: Number of siblings/spouses aboard the Titanic\n",
    "- Parch: Number of parents/children aboard the Titanic\n",
    "- Ticket: Ticket number\n",
    "- Fare: Passenger fare\n",
    "- Cabin: Cabin number\n",
    "- Embarked: Port of embarkation (C = Cherbourg, Q = Queenstown, S = Southampton)"
   ]
  },
  {
   "cell_type": "code",
   "execution_count": 12,
   "id": "608042bf-0c63-4906-9aa3-63ba713dab80",
   "metadata": {},
   "outputs": [
    {
     "data": {
      "text/html": [
       "<div>\n",
       "<style scoped>\n",
       "    .dataframe tbody tr th:only-of-type {\n",
       "        vertical-align: middle;\n",
       "    }\n",
       "\n",
       "    .dataframe tbody tr th {\n",
       "        vertical-align: top;\n",
       "    }\n",
       "\n",
       "    .dataframe thead th {\n",
       "        text-align: right;\n",
       "    }\n",
       "</style>\n",
       "<table border=\"1\" class=\"dataframe\">\n",
       "  <thead>\n",
       "    <tr style=\"text-align: right;\">\n",
       "      <th></th>\n",
       "      <th>PassengerId</th>\n",
       "      <th>Survived</th>\n",
       "      <th>Pclass</th>\n",
       "      <th>Name</th>\n",
       "      <th>Sex</th>\n",
       "      <th>Age</th>\n",
       "      <th>SibSp</th>\n",
       "      <th>Parch</th>\n",
       "      <th>Ticket</th>\n",
       "      <th>Fare</th>\n",
       "      <th>Cabin</th>\n",
       "      <th>Embarked</th>\n",
       "    </tr>\n",
       "  </thead>\n",
       "  <tbody>\n",
       "    <tr>\n",
       "      <th>0</th>\n",
       "      <td>1</td>\n",
       "      <td>0</td>\n",
       "      <td>3</td>\n",
       "      <td>Braund, Mr. Owen Harris</td>\n",
       "      <td>male</td>\n",
       "      <td>22.0</td>\n",
       "      <td>1</td>\n",
       "      <td>0</td>\n",
       "      <td>A/5 21171</td>\n",
       "      <td>7.2500</td>\n",
       "      <td>NaN</td>\n",
       "      <td>S</td>\n",
       "    </tr>\n",
       "    <tr>\n",
       "      <th>1</th>\n",
       "      <td>2</td>\n",
       "      <td>1</td>\n",
       "      <td>1</td>\n",
       "      <td>Cumings, Mrs. John Bradley (Florence Briggs Th...</td>\n",
       "      <td>female</td>\n",
       "      <td>38.0</td>\n",
       "      <td>1</td>\n",
       "      <td>0</td>\n",
       "      <td>PC 17599</td>\n",
       "      <td>71.2833</td>\n",
       "      <td>C85</td>\n",
       "      <td>C</td>\n",
       "    </tr>\n",
       "    <tr>\n",
       "      <th>2</th>\n",
       "      <td>3</td>\n",
       "      <td>1</td>\n",
       "      <td>3</td>\n",
       "      <td>Heikkinen, Miss. Laina</td>\n",
       "      <td>female</td>\n",
       "      <td>26.0</td>\n",
       "      <td>0</td>\n",
       "      <td>0</td>\n",
       "      <td>STON/O2. 3101282</td>\n",
       "      <td>7.9250</td>\n",
       "      <td>NaN</td>\n",
       "      <td>S</td>\n",
       "    </tr>\n",
       "    <tr>\n",
       "      <th>3</th>\n",
       "      <td>4</td>\n",
       "      <td>1</td>\n",
       "      <td>1</td>\n",
       "      <td>Futrelle, Mrs. Jacques Heath (Lily May Peel)</td>\n",
       "      <td>female</td>\n",
       "      <td>35.0</td>\n",
       "      <td>1</td>\n",
       "      <td>0</td>\n",
       "      <td>113803</td>\n",
       "      <td>53.1000</td>\n",
       "      <td>C123</td>\n",
       "      <td>S</td>\n",
       "    </tr>\n",
       "    <tr>\n",
       "      <th>4</th>\n",
       "      <td>5</td>\n",
       "      <td>0</td>\n",
       "      <td>3</td>\n",
       "      <td>Allen, Mr. William Henry</td>\n",
       "      <td>male</td>\n",
       "      <td>35.0</td>\n",
       "      <td>0</td>\n",
       "      <td>0</td>\n",
       "      <td>373450</td>\n",
       "      <td>8.0500</td>\n",
       "      <td>NaN</td>\n",
       "      <td>S</td>\n",
       "    </tr>\n",
       "  </tbody>\n",
       "</table>\n",
       "</div>"
      ],
      "text/plain": [
       "   PassengerId  Survived  Pclass  \\\n",
       "0            1         0       3   \n",
       "1            2         1       1   \n",
       "2            3         1       3   \n",
       "3            4         1       1   \n",
       "4            5         0       3   \n",
       "\n",
       "                                                Name     Sex   Age  SibSp  \\\n",
       "0                            Braund, Mr. Owen Harris    male  22.0      1   \n",
       "1  Cumings, Mrs. John Bradley (Florence Briggs Th...  female  38.0      1   \n",
       "2                             Heikkinen, Miss. Laina  female  26.0      0   \n",
       "3       Futrelle, Mrs. Jacques Heath (Lily May Peel)  female  35.0      1   \n",
       "4                           Allen, Mr. William Henry    male  35.0      0   \n",
       "\n",
       "   Parch            Ticket     Fare Cabin Embarked  \n",
       "0      0         A/5 21171   7.2500   NaN        S  \n",
       "1      0          PC 17599  71.2833   C85        C  \n",
       "2      0  STON/O2. 3101282   7.9250   NaN        S  \n",
       "3      0            113803  53.1000  C123        S  \n",
       "4      0            373450   8.0500   NaN        S  "
      ]
     },
     "execution_count": 12,
     "metadata": {},
     "output_type": "execute_result"
    }
   ],
   "source": [
    "# Let's start by gaining a general understanding of the dataset.\n",
    "titanic_data.head()"
   ]
  },
  {
   "cell_type": "markdown",
   "id": "97653963-22f9-48a3-b837-a3163295e78a",
   "metadata": {},
   "source": [
    "As we saw in the previous lesson,  we consider the following as numerical or quantitative variables:\n",
    "    \n",
    "- Age: continuous (it can also be considered discrete)\n",
    "- SibSp: discrete\n",
    "- Parch: discrete\n",
    "- Fare: continuous"
   ]
  },
  {
   "cell_type": "markdown",
   "id": "ae62faa6-655d-4085-ab41-8d83a435cf56",
   "metadata": {},
   "source": [
    "The following variables are considered categorical variables:"
   ]
  },
  {
   "cell_type": "markdown",
   "id": "683f76c3-a0db-41e6-95c6-788aca4e6b8e",
   "metadata": {},
   "source": [
    " \n",
    "- Survived\n",
    "- Pclass\n",
    "- Sex\n",
    "- Embarked"
   ]
  },
  {
   "cell_type": "markdown",
   "id": "8c5dd186-452d-4d46-bfdf-715ca1eea625",
   "metadata": {},
   "source": [
    "'Sex', 'Embarked', and 'Survived' are considered nominal variables, and 'Pclass' is considered an ordinal variable. While we won't delve into the importance of this distinction at the moment, we will explore it further during the bootcamp to understand its significance in data analysis."
   ]
  },
  {
   "cell_type": "markdown",
   "id": "4605ba8e-a90f-4e76-ac81-071496161535",
   "metadata": {},
   "source": [
    "For now, we will ignore PassengerId, Name, Ticket, and Cabin."
   ]
  },
  {
   "cell_type": "markdown",
   "id": "6a753409-e3fd-446f-b779-149e03471d63",
   "metadata": {},
   "source": [
    "## Descriptive statistics for numerical variables"
   ]
  },
  {
   "cell_type": "markdown",
   "id": "116be475-37ba-493e-a5c9-dbab6bf5f332",
   "metadata": {},
   "source": [
    "### Graphical Univariate Techniques\n",
    "\n",
    "- **Histograms**: A histogram is a graphical representation of the distribution of numerical data. It consists of a series of bars, where each bar represents a range of values and the height of the bar represents the frequency or count of data points falling within that range. Histograms are commonly used to visualize the overall shape, central tendency, and dispersion of numerical data. In other words, **it divides the data into bins or intervals** and displaying the **frequency** or proportion of values in each bin. \n",
    "\t- Mostly used for: numerical/quantitative - continuous variables.\n",
    "- **Bar Plots**: A bar plot is a graphical representation that uses rectangular bars to show the values of different categories. Each bar represents a category, and the height of the bar corresponds to the value or frequency of that category. Bar plots are typically used to compare and visualize categorical data, allowing us to easily identify patterns or differences between the categories. In other words, bar plots display the **frequency or proportion of each category using vertical bars**.\n",
    "\t- Mostly used for: numerical/quantitative - discrete variables and categorical/qualitative data.\n"
   ]
  },
  {
   "cell_type": "markdown",
   "id": "5f1042ca-31d6-4f7e-8449-826978776d71",
   "metadata": {},
   "source": [
    "#### Histograms - continuous variables"
   ]
  },
  {
   "cell_type": "markdown",
   "id": "b58900a3-a14c-4e03-bfb9-427499aa780f",
   "metadata": {},
   "source": [
    "To visualize continuous variables, let's create a **histogram** with Seaborn. Assuming you have a DataFrame named 'df' with a column named 'column_name' containing the data, do:\n",
    "```python\n",
    "sns.histplot(data=df, x='column_name')\n",
    "```"
   ]
  },
  {
   "cell_type": "code",
   "execution_count": 19,
   "id": "2349023f-aa5d-4980-89b9-148b518967a6",
   "metadata": {},
   "outputs": [
    {
     "name": "stderr",
     "output_type": "stream",
     "text": [
      "C:\\Users\\Carlos\\anaconda3\\Lib\\site-packages\\seaborn\\_oldcore.py:1119: FutureWarning: use_inf_as_na option is deprecated and will be removed in a future version. Convert inf values to NaN before operating instead.\n",
      "  with pd.option_context('mode.use_inf_as_na', True):\n"
     ]
    },
    {
     "data": {
      "text/plain": [
       "<Axes: xlabel='Fare', ylabel='Count'>"
      ]
     },
     "execution_count": 19,
     "metadata": {},
     "output_type": "execute_result"
    },
    {
     "data": {
      "image/png": "[encoded data removed]",
      "text/plain": [
       "<Figure size 640x480 with 1 Axes>"
      ]
     },
     "metadata": {},
     "output_type": "display_data"
    }
   ],
   "source": [
    "sns.histplot(x='Fare', data=titanic_data)"
   ]
  },
  {
   "cell_type": "code",
   "execution_count": 21,
   "id": "2aba6277-e8d5-4fbb-ab5e-7cfe30fa72e5",
   "metadata": {},
   "outputs": [
    {
     "name": "stderr",
     "output_type": "stream",
     "text": [
      "C:\\Users\\Carlos\\anaconda3\\Lib\\site-packages\\seaborn\\_oldcore.py:1119: FutureWarning: use_inf_as_na option is deprecated and will be removed in a future version. Convert inf values to NaN before operating instead.\n",
      "  with pd.option_context('mode.use_inf_as_na', True):\n"
     ]
    },
    {
     "data": {
      "text/plain": [
       "<Axes: xlabel='Age', ylabel='Count'>"
      ]
     },
     "execution_count": 21,
     "metadata": {},
     "output_type": "execute_result"
    },
    {
     "data": {
      "image/png": "[encoded data removed]",
      "text/plain": [
       "<Figure size 640x480 with 1 Axes>"
      ]
     },
     "metadata": {},
     "output_type": "display_data"
    }
   ],
   "source": [
    "sns.histplot(x='Age', data=titanic_data)"
   ]
  },
  {
   "cell_type": "markdown",
   "id": "43ee832c-41f4-4704-a1d8-70d1a4f26671",
   "metadata": {},
   "source": [
    "The histograms give us an idea of the distribution of age and fare values. We can observe the frequency or count of passengers falling within specific age ranges or fare ranges."
   ]
  },
  {
   "cell_type": "markdown",
   "id": "aa25c2e7-2f3b-41a1-8dc8-7a6e5419746e",
   "metadata": {},
   "source": [
    "From the histograms of the numerical variables in the Titanic dataset, we can draw the following insights:\n",
    "\n",
    "- Age: The histogram of age shows the distribution of passengers' ages. It reveals that the majority of passengers were in the age range of approximately 20 to 40 years. There are also a noticeable number of passengers in the age range of infants.\n",
    "\n",
    "- Fare: The histogram of fare displays the distribution of ticket fares paid by passengers. It shows that the majority of passengers paid relatively lower fares, with a peak around the lower fare values. However, there are a few passengers who paid significantly higher fares, contributing to the long tail in the distribution."
   ]
  },
  {
   "cell_type": "markdown",
   "id": "aaeea56c-72ad-4425-8ad7-d6dd12237388",
   "metadata": {},
   "source": [
    "#### Bar plots - discrete variables"
   ]
  },
  {
   "cell_type": "markdown",
   "id": "9a0cb993-9571-4990-8473-b309127d2e7d",
   "metadata": {},
   "source": [
    "To visualize discrete variables, let's create a **bar plot** with Seaborn. Assuming you have a DataFrame named 'df' with a column named 'column_name' containing the data, do:\n",
    "```python\n",
    "sns.countplot(data=df, x='column_name')\n",
    "```"
   ]
  },
  {
   "cell_type": "code",
   "execution_count": 23,
   "id": "0f832d6f-c52c-4d73-b7a3-b92ed0bc10c5",
   "metadata": {},
   "outputs": [
    {
     "data": {
      "text/plain": [
       "<Axes: xlabel='Parch', ylabel='count'>"
      ]
     },
     "execution_count": 23,
     "metadata": {},
     "output_type": "execute_result"
    },
    {
     "data": {
      "image/png": "[encoded data removed]",
      "text/plain": [
       "<Figure size 640x480 with 1 Axes>"
      ]
     },
     "metadata": {},
     "output_type": "display_data"
    }
   ],
   "source": [
    "sns.countplot(x='Parch', data=titanic_data)"
   ]
  },
  {
   "cell_type": "code",
   "execution_count": 25,
   "id": "0913dc8f-e26a-4e80-9424-f9edc0188bb3",
   "metadata": {},
   "outputs": [
    {
     "data": {
      "text/plain": [
       "<Axes: xlabel='SibSp', ylabel='count'>"
      ]
     },
     "execution_count": 25,
     "metadata": {},
     "output_type": "execute_result"
    },
    {
     "data": {
      "image/png": "[encoded data removed]",
      "text/plain": [
       "<Figure size 640x480 with 1 Axes>"
      ]
     },
     "metadata": {},
     "output_type": "display_data"
    }
   ],
   "source": [
    "sns.countplot(x='SibSp', data=titanic_data)"
   ]
  },
  {
   "cell_type": "markdown",
   "id": "f5ab06a8-b841-4e6b-b86c-0ef80e9f0987",
   "metadata": {},
   "source": [
    "The bar plots display the count of passengers for each category of the discrete variables."
   ]
  },
  {
   "cell_type": "markdown",
   "id": "64c0613b-e612-4127-9388-6ef4360954e7",
   "metadata": {},
   "source": [
    "From the bar plots of the variables SibSp (number of siblings/spouses aboard the Titanic) and Parch (number of parents/children aboard the Titanic) in the Titanic dataset, we can draw the following insights:\n",
    "\n",
    "- SibSp: The bar plot of SibSp shows the distribution of the number of siblings/spouses for each passenger. It reveals that the majority of passengers had no siblings or spouses on board (represented by the bar labeled \"0\"). There is a gradual decrease in the frequency as the number of siblings/spouses increases. This suggests that most passengers traveled alone or with a small number of siblings/spouses.\n",
    "\n",
    "- Parch: The bar plot of Parch displays the distribution of the number of parents/children for each passenger. It indicates that the majority of passengers had no parents or children on board (represented by the bar labeled \"0\"). Similar to SibSp, there is a decline in the frequency as the number of parents/children increases. This implies that most passengers traveled without their parents or children or with a small number of them.\n",
    "\n",
    "These insights provide an understanding of the family composition and dynamics among the passengers. It indicates that a significant portion of the passengers traveled alone or with only a few family members, while a smaller proportion traveled with larger families."
   ]
  },
  {
   "cell_type": "markdown",
   "id": "55eb4778-6207-4b9d-8842-132374414f1f",
   "metadata": {
    "jp-MarkdownHeadingCollapsed": true
   },
   "source": [
    "## Descriptive statistics for categorical variables"
   ]
  },
  {
   "cell_type": "markdown",
   "id": "c519a5b2-0dcf-418a-9baa-ec27072e4a54",
   "metadata": {
    "jp-MarkdownHeadingCollapsed": true
   },
   "source": [
    "### Graphical Univariate Techniques\n",
    "- **Bar Plots**: bar plots display the **frequency or proportion of each category using vertical bars**, allowing for easy comparison between categories.\n",
    "\t- Mostly used for: numerical/quantitative - discrete variables and categorical/qualitative data.\n",
    "\t\n",
    "- **Pie Charts**: Another graphical representation for categorical data, pie charts display the **proportion or percentage of each category as a slice of a circle**. They help visualize the relative distribution of categories.\n",
    "\t- Mostly used for: numerical/quantitative - discrete variables and categorical/qualitative data."
   ]
  },
  {
   "cell_type": "markdown",
   "id": "e3d5f3e0-5e2f-4989-8987-092be2b0c3cc",
   "metadata": {},
   "source": [
    "We will use bar plots for the categorical variables. "
   ]
  },
  {
   "cell_type": "code",
   "execution_count": 27,
   "id": "476f34f7-48b8-4828-a87d-30796094e98c",
   "metadata": {},
   "outputs": [
    {
     "data": {
      "text/plain": [
       "<Axes: xlabel='Survived', ylabel='count'>"
      ]
     },
     "execution_count": 27,
     "metadata": {},
     "output_type": "execute_result"
    },
    {
     "data": {
      "image/png": "[encoded data removed]",
      "text/plain": [
       "<Figure size 640x480 with 1 Axes>"
      ]
     },
     "metadata": {},
     "output_type": "display_data"
    }
   ],
   "source": [
    "sns.countplot(x='Survived', data=titanic_data)"
   ]
  },
  {
   "cell_type": "code",
   "execution_count": 29,
   "id": "dd359ecd-32a6-4559-b0b4-464970e0cba2",
   "metadata": {},
   "outputs": [
    {
     "data": {
      "text/plain": [
       "<Axes: xlabel='Pclass', ylabel='count'>"
      ]
     },
     "execution_count": 29,
     "metadata": {},
     "output_type": "execute_result"
    },
    {
     "data": {
      "image/png": "[encoded data removed]",
      "text/plain": [
       "<Figure size 640x480 with 1 Axes>"
      ]
     },
     "metadata": {},
     "output_type": "display_data"
    }
   ],
   "source": [
    "sns.countplot(x='Pclass', data=titanic_data)"
   ]
  },
  {
   "cell_type": "code",
   "execution_count": 31,
   "id": "859eb129-958b-430d-8641-6fabe6cf88a1",
   "metadata": {},
   "outputs": [
    {
     "data": {
      "text/plain": [
       "<Axes: xlabel='Sex', ylabel='count'>"
      ]
     },
     "execution_count": 31,
     "metadata": {},
     "output_type": "execute_result"
    },
    {
     "data": {
      "image/png": "[encoded data removed]",
      "text/plain": [
       "<Figure size 640x480 with 1 Axes>"
      ]
     },
     "metadata": {},
     "output_type": "display_data"
    }
   ],
   "source": [
    "sns.countplot(x='Sex', data=titanic_data)"
   ]
  },
  {
   "cell_type": "code",
   "execution_count": 33,
   "id": "5020b182-4a61-4bc6-aae7-5aeec5016c96",
   "metadata": {},
   "outputs": [
    {
     "data": {
      "text/plain": [
       "<Axes: xlabel='Embarked', ylabel='count'>"
      ]
     },
     "execution_count": 33,
     "metadata": {},
     "output_type": "execute_result"
    },
    {
     "data": {
      "image/png": "[encoded data removed]",
      "text/plain": [
       "<Figure size 640x480 with 1 Axes>"
      ]
     },
     "metadata": {},
     "output_type": "display_data"
    }
   ],
   "source": [
    "sns.countplot(x='Embarked', data=titanic_data)"
   ]
  },
  {
   "cell_type": "markdown",
   "id": "c3f27bf0-9e9d-41aa-8597-c14ba82beeb3",
   "metadata": {},
   "source": [
    "From the bar plots of the categorical variables in the Titanic dataset, we can draw the following insights:\n",
    "\n",
    "- Survived: The bar plot shows the number of passengers who survived (1) and who did not survive (0). It indicates that a higher number of passengers did not survive the Titanic disaster compared to those who survived.\n",
    "\n",
    "- Pclass: The bar plot displays the distribution of passengers across the three classes - 1, 2, and 3. It reveals that the majority of passengers were in the third class, followed by the first and second classes.\n",
    "\n",
    "- Sex: The bar plot illustrates the count of male and female passengers. It shows that the number of male passengers was higher than the number of female passengers.\n",
    "\n",
    "- Embarked: The bar plot represents the count of passengers who boarded the Titanic from each port - Southampton (S), Cherbourg (C), and Queenstown (Q). It reveals that the majority of passengers boarded from Southampton, followed by Cherbourg and Queenstown.\n",
    "\n",
    "These insights provide a visual representation of the distribution and composition of the categorical variables in the Titanic dataset, allowing us to understand the characteristics and patterns within the data."
   ]
  },
  {
   "cell_type": "markdown",
   "id": "b2c025ac-d101-4bad-b849-34e10a595b1d",
   "metadata": {
    "jp-MarkdownHeadingCollapsed": true
   },
   "source": [
    "## Additional Analysis"
   ]
  },
  {
   "cell_type": "markdown",
   "id": "ea87a138-2038-46a2-bee7-10821cebef44",
   "metadata": {},
   "source": [
    "You can further explore the dataset by calculating statistics for specific subsets of the data and analyzing correlations between variables.\n",
    "\n",
    "We will look at this during the bootcamp."
   ]
  },
  {
   "cell_type": "markdown",
   "id": "56d288c3-d651-4c55-b77b-4cf818713862",
   "metadata": {},
   "source": [
    "## Exercise"
   ]
  },
  {
   "cell_type": "markdown",
   "id": "9f6b5e69-636a-4d7c-a155-b8cc27c24ec7",
   "metadata": {},
   "source": [
    "Exploring Students' Performance Dataset - Graphical Techniques\n",
    "\n",
    "**Objective**: The objective of this exercise is to practice using **graphical techniques** to analyze the Students' Performance dataset and gain insights into the students' academic performance.\n",
    "\n",
    "**Dataset Description**:\n",
    "The Students' Performance dataset contains information about students' demographic attributes, such as gender, race/ethnicity, parental education, lunch type, and test scores in three subjects: Math, Reading, and Writing.\n",
    "\n",
    "**Exercise Steps**:\n",
    "\n",
    "- Load the Dataset: Import the necessary libraries and load the Students' Performance dataset into a pandas DataFrame. \n",
    "\n",
    "- Explore the Dataset: Use basic pandas functions to get an overview of the dataset, including the number of rows and columns, and number of unique values for each column. For those columns that have less than 10 distinct values, show those unique values. \n",
    "\n",
    "- Visualize Distributions: Create histograms and bar plots to visualize the distributions of the variables. Interpret the shape of the distributions."
   ]
  },
  {
   "cell_type": "code",
   "execution_count": null,
   "id": "49a5073d-0c04-4519-821a-f60f0ae13457",
   "metadata": {},
   "outputs": [],
   "source": [
    "# Dataset source URL\n",
    "url = \"https://raw.githubusercontent.com/data-bootcamp-v4/prework_data/main/students_performance.csv\""
   ]
  },
  {
   "cell_type": "code",
   "execution_count": null,
   "id": "8190062b-dcd4-45f6-b6d6-a11a2edf2bdf",
   "metadata": {},
   "outputs": [],
   "source": [
    "# Firs over all, we prepare the enviroment: \n",
    "!pip install seaborn\n",
    "import seaborn as sns\n",
    "import pandas as pd"
   ]
  },
  {
   "cell_type": "code",
   "execution_count": 42,
   "id": "5bde5a8c-fbbe-4abc-8531-a8f8f786a1f3",
   "metadata": {},
   "outputs": [],
   "source": [
    "df_stu = pd.read_csv(\"https://raw.githubusercontent.com/data-bootcamp-v4/prework_data/main/students_performance.csv\")"
   ]
  },
  {
   "cell_type": "code",
   "execution_count": 44,
   "id": "ad702644-17db-412e-93b1-1d8b48205db5",
   "metadata": {},
   "outputs": [
    {
     "data": {
      "text/html": [
       "<div>\n",
       "<style scoped>\n",
       "    .dataframe tbody tr th:only-of-type {\n",
       "        vertical-align: middle;\n",
       "    }\n",
       "\n",
       "    .dataframe tbody tr th {\n",
       "        vertical-align: top;\n",
       "    }\n",
       "\n",
       "    .dataframe thead th {\n",
       "        text-align: right;\n",
       "    }\n",
       "</style>\n",
       "<table border=\"1\" class=\"dataframe\">\n",
       "  <thead>\n",
       "    <tr style=\"text-align: right;\">\n",
       "      <th></th>\n",
       "      <th>gender</th>\n",
       "      <th>race/ethnicity</th>\n",
       "      <th>parental level of education</th>\n",
       "      <th>lunch</th>\n",
       "      <th>test preparation course</th>\n",
       "      <th>math score</th>\n",
       "      <th>reading score</th>\n",
       "      <th>writing score</th>\n",
       "    </tr>\n",
       "  </thead>\n",
       "  <tbody>\n",
       "    <tr>\n",
       "      <th>0</th>\n",
       "      <td>female</td>\n",
       "      <td>group B</td>\n",
       "      <td>bachelor's degree</td>\n",
       "      <td>standard</td>\n",
       "      <td>none</td>\n",
       "      <td>72</td>\n",
       "      <td>72</td>\n",
       "      <td>74</td>\n",
       "    </tr>\n",
       "    <tr>\n",
       "      <th>1</th>\n",
       "      <td>female</td>\n",
       "      <td>group C</td>\n",
       "      <td>some college</td>\n",
       "      <td>standard</td>\n",
       "      <td>completed</td>\n",
       "      <td>69</td>\n",
       "      <td>90</td>\n",
       "      <td>88</td>\n",
       "    </tr>\n",
       "    <tr>\n",
       "      <th>2</th>\n",
       "      <td>female</td>\n",
       "      <td>group B</td>\n",
       "      <td>master's degree</td>\n",
       "      <td>standard</td>\n",
       "      <td>none</td>\n",
       "      <td>90</td>\n",
       "      <td>95</td>\n",
       "      <td>93</td>\n",
       "    </tr>\n",
       "    <tr>\n",
       "      <th>3</th>\n",
       "      <td>male</td>\n",
       "      <td>group A</td>\n",
       "      <td>associate's degree</td>\n",
       "      <td>free/reduced</td>\n",
       "      <td>none</td>\n",
       "      <td>47</td>\n",
       "      <td>57</td>\n",
       "      <td>44</td>\n",
       "    </tr>\n",
       "    <tr>\n",
       "      <th>4</th>\n",
       "      <td>male</td>\n",
       "      <td>group C</td>\n",
       "      <td>some college</td>\n",
       "      <td>standard</td>\n",
       "      <td>none</td>\n",
       "      <td>76</td>\n",
       "      <td>78</td>\n",
       "      <td>75</td>\n",
       "    </tr>\n",
       "  </tbody>\n",
       "</table>\n",
       "</div>"
      ],
      "text/plain": [
       "   gender race/ethnicity parental level of education         lunch  \\\n",
       "0  female        group B           bachelor's degree      standard   \n",
       "1  female        group C                some college      standard   \n",
       "2  female        group B             master's degree      standard   \n",
       "3    male        group A          associate's degree  free/reduced   \n",
       "4    male        group C                some college      standard   \n",
       "\n",
       "  test preparation course  math score  reading score  writing score  \n",
       "0                    none          72             72             74  \n",
       "1               completed          69             90             88  \n",
       "2                    none          90             95             93  \n",
       "3                    none          47             57             44  \n",
       "4                    none          76             78             75  "
      ]
     },
     "execution_count": 44,
     "metadata": {},
     "output_type": "execute_result"
    }
   ],
   "source": [
    "df_stu.head()"
   ]
  },
  {
   "cell_type": "code",
   "execution_count": 46,
   "id": "fae81072-9a38-4a2f-85ba-fa7324e0dd70",
   "metadata": {},
   "outputs": [
    {
     "data": {
      "text/plain": [
       "(1000, 8)"
      ]
     },
     "execution_count": 46,
     "metadata": {},
     "output_type": "execute_result"
    }
   ],
   "source": [
    "df_stu.shape"
   ]
  },
  {
   "cell_type": "code",
   "execution_count": 48,
   "id": "bcb8d086-0f3d-4427-9fae-b48670cae803",
   "metadata": {},
   "outputs": [
    {
     "name": "stdout",
     "output_type": "stream",
     "text": [
      "gender\n",
      "female    518\n",
      "male      482\n",
      "Name: count, dtype: int64\n",
      "race/ethnicity\n",
      "group C    319\n",
      "group D    262\n",
      "group B    190\n",
      "group E    140\n",
      "group A     89\n",
      "Name: count, dtype: int64\n",
      "parental level of education\n",
      "some college          226\n",
      "associate's degree    222\n",
      "high school           196\n",
      "some high school      179\n",
      "bachelor's degree     118\n",
      "master's degree        59\n",
      "Name: count, dtype: int64\n",
      "lunch\n",
      "standard        645\n",
      "free/reduced    355\n",
      "Name: count, dtype: int64\n",
      "test preparation course\n",
      "none         642\n",
      "completed    358\n",
      "Name: count, dtype: int64\n"
     ]
    }
   ],
   "source": [
    "cat_vbles = [\"gender\", \"race/ethnicity\", \"parental level of education\", \"lunch\", \"test preparation course\"]\n",
    "\n",
    "for column in cat_vbles:\n",
    "    print(df_stu[column].value_counts())"
   ]
  },
  {
   "cell_type": "code",
   "execution_count": null,
   "id": "c9e0959b-d3e4-4926-a85d-20998716925f",
   "metadata": {},
   "outputs": [],
   "source": [
    "df_stu[\"gender\"].unique()"
   ]
  },
  {
   "cell_type": "code",
   "execution_count": null,
   "id": "e89c37d0-7fc7-4810-9c8b-ac7df78839c2",
   "metadata": {},
   "outputs": [],
   "source": [
    "df_stu[\"race/ethnicity\"].unique()"
   ]
  },
  {
   "cell_type": "code",
   "execution_count": null,
   "id": "6f13f1ae-940c-4263-9722-4c2cef82afdd",
   "metadata": {},
   "outputs": [],
   "source": [
    "df_stu[\"parental level of education\"].unique()"
   ]
  },
  {
   "cell_type": "code",
   "execution_count": null,
   "id": "6fb06f98-1db5-4934-91a8-af881338bddf",
   "metadata": {},
   "outputs": [],
   "source": [
    "df_stu[\"lunch\"].unique()"
   ]
  },
  {
   "cell_type": "code",
   "execution_count": null,
   "id": "47d89420-b508-459a-a9c3-bedb225b1666",
   "metadata": {},
   "outputs": [],
   "source": [
    "df_stu[\"test preparation course\"].unique()"
   ]
  },
  {
   "cell_type": "code",
   "execution_count": null,
   "id": "654eef28-5352-4d9f-b0f6-f7f6185302ff",
   "metadata": {},
   "outputs": [],
   "source": [
    "num_vbles = [\"math score\", \"reading score\", \"writing score\"]\n",
    "for column in num_vbles:\n",
    "    print(df_stu[column].value_counts())"
   ]
  },
  {
   "cell_type": "code",
   "execution_count": 50,
   "id": "dede2a61-163b-4deb-8019-1dfebb29fccc",
   "metadata": {},
   "outputs": [
    {
     "name": "stderr",
     "output_type": "stream",
     "text": [
      "C:\\Users\\Carlos\\anaconda3\\Lib\\site-packages\\seaborn\\_oldcore.py:1119: FutureWarning: use_inf_as_na option is deprecated and will be removed in a future version. Convert inf values to NaN before operating instead.\n",
      "  with pd.option_context('mode.use_inf_as_na', True):\n"
     ]
    },
    {
     "data": {
      "text/plain": [
       "<Axes: xlabel='math score', ylabel='Count'>"
      ]
     },
     "execution_count": 50,
     "metadata": {},
     "output_type": "execute_result"
    },
    {
     "data": {
      "image/png": "[encoded data removed]",
      "text/plain": [
       "<Figure size 640x480 with 1 Axes>"
      ]
     },
     "metadata": {},
     "output_type": "display_data"
    }
   ],
   "source": [
    "sns.histplot(x='math score', data=df_stu)"
   ]
  },
  {
   "cell_type": "markdown",
   "id": "de6cf1a2-df75-4a17-8188-1212d680c821",
   "metadata": {},
   "source": [
    "The histogram about math scores of students show majority of them are placed between 60% - 70%. Futhermore, the distribution is biased to the right, what means the are more people in the approved tail than in the fail tail. "
   ]
  },
  {
   "cell_type": "code",
   "execution_count": 52,
   "id": "f44680e0-b033-4f28-b926-890f309ec5b0",
   "metadata": {},
   "outputs": [
    {
     "name": "stderr",
     "output_type": "stream",
     "text": [
      "C:\\Users\\Carlos\\anaconda3\\Lib\\site-packages\\seaborn\\_oldcore.py:1119: FutureWarning: use_inf_as_na option is deprecated and will be removed in a future version. Convert inf values to NaN before operating instead.\n",
      "  with pd.option_context('mode.use_inf_as_na', True):\n"
     ]
    },
    {
     "data": {
      "text/plain": [
       "<Axes: xlabel='reading score', ylabel='Count'>"
      ]
     },
     "execution_count": 52,
     "metadata": {},
     "output_type": "execute_result"
    },
    {
     "data": {
      "image/png": "[encoded data removed]",
      "text/plain": [
       "<Figure size 640x480 with 1 Axes>"
      ]
     },
     "metadata": {},
     "output_type": "display_data"
    }
   ],
   "source": [
    "sns.histplot(x='reading score', data=df_stu)"
   ]
  },
  {
   "cell_type": "markdown",
   "id": "0cda85eb-5b51-48dc-92ea-d35b514b3feb",
   "metadata": {},
   "source": [
    "Very similar to math scores. There are some notables differences. For instance, the center of the distribution is more with, which indicates us there are more variability between students results."
   ]
  },
  {
   "cell_type": "code",
   "execution_count": 54,
   "id": "99c82957-cfeb-4559-8f6e-f203f9e1ca09",
   "metadata": {},
   "outputs": [
    {
     "name": "stderr",
     "output_type": "stream",
     "text": [
      "C:\\Users\\Carlos\\anaconda3\\Lib\\site-packages\\seaborn\\_oldcore.py:1119: FutureWarning: use_inf_as_na option is deprecated and will be removed in a future version. Convert inf values to NaN before operating instead.\n",
      "  with pd.option_context('mode.use_inf_as_na', True):\n"
     ]
    },
    {
     "data": {
      "text/plain": [
       "<Axes: xlabel='writing score', ylabel='Count'>"
      ]
     },
     "execution_count": 54,
     "metadata": {},
     "output_type": "execute_result"
    },
    {
     "data": {
      "image/png": "[encoded data removed]",
      "text/plain": [
       "<Figure size 640x480 with 1 Axes>"
      ]
     },
     "metadata": {},
     "output_type": "display_data"
    }
   ],
   "source": [
    "sns.histplot(x='writing score', data=df_stu)"
   ]
  },
  {
   "cell_type": "markdown",
   "id": "aa9a6180-a7e2-4a85-8d50-013ded6c3dc7",
   "metadata": {},
   "source": [
    "This distribution is basically pretty similar to both before, with the difference there are a mean more with than before. This case make tails shorter and describes a scenarie where more students cummulated between low pass scores."
   ]
  },
  {
   "cell_type": "code",
   "execution_count": 56,
   "id": "a7437951-169d-41a3-90e0-d2cb9c99ca19",
   "metadata": {},
   "outputs": [
    {
     "data": {
      "text/plain": [
       "<Axes: xlabel='gender', ylabel='count'>"
      ]
     },
     "execution_count": 56,
     "metadata": {},
     "output_type": "execute_result"
    },
    {
     "data": {
      "image/png": "[encoded data removed]",
      "text/plain": [
       "<Figure size 640x480 with 1 Axes>"
      ]
     },
     "metadata": {},
     "output_type": "display_data"
    }
   ],
   "source": [
    "sns.countplot(x=\"gender\", data=df_stu)"
   ]
  },
  {
   "cell_type": "markdown",
   "id": "422645ef-e87e-4942-b588-2f6b312a930f",
   "metadata": {},
   "source": [
    "This barplot show us the kind of gender from studentes are very similar. "
   ]
  },
  {
   "cell_type": "code",
   "execution_count": 58,
   "id": "6c3a16dd-a5a0-4145-8294-005157e1ca06",
   "metadata": {},
   "outputs": [
    {
     "data": {
      "text/plain": [
       "<Axes: xlabel='race/ethnicity', ylabel='count'>"
      ]
     },
     "execution_count": 58,
     "metadata": {},
     "output_type": "execute_result"
    },
    {
     "data": {
      "image/png": "[encoded data removed]",
      "text/plain": [
       "<Figure size 640x480 with 1 Axes>"
      ]
     },
     "metadata": {},
     "output_type": "display_data"
    }
   ],
   "source": [
    "sns.countplot(x=\"race/ethnicity\", data=df_stu)"
   ]
  },
  {
   "cell_type": "markdown",
   "id": "72da454a-4c96-40e2-95b2-9af6ef5542b2",
   "metadata": {},
   "source": [
    "We can conclude there are groups more commonly than other ones, but we can say anything else because we dont know which class is each of them."
   ]
  },
  {
   "cell_type": "code",
   "execution_count": 60,
   "id": "12f98d08-1271-4fd9-bc13-b354d1cea31d",
   "metadata": {},
   "outputs": [
    {
     "data": {
      "text/plain": [
       "<Axes: xlabel='parental level of education', ylabel='count'>"
      ]
     },
     "execution_count": 60,
     "metadata": {},
     "output_type": "execute_result"
    },
    {
     "data": {
      "image/png": "[encoded data removed]",
      "text/plain": [
       "<Figure size 640x480 with 1 Axes>"
      ]
     },
     "metadata": {},
     "output_type": "display_data"
    }
   ],
   "source": [
    "sns.countplot(x=\"parental level of education\", data=df_stu)"
   ]
  },
  {
   "cell_type": "markdown",
   "id": "2041374f-86c4-41ee-92e3-dc4ab4a6f945",
   "metadata": {},
   "source": [
    "There so few people with parents with master's degree or bachelor's degree which is logical in a system where this kind of studies are very expensive to study. But we can reach very biased conclussions without more data."
   ]
  },
  {
   "cell_type": "code",
   "execution_count": 62,
   "id": "98151647-8260-483a-8d1c-1210141aef55",
   "metadata": {},
   "outputs": [
    {
     "data": {
      "text/plain": [
       "<Axes: xlabel='lunch', ylabel='count'>"
      ]
     },
     "execution_count": 62,
     "metadata": {},
     "output_type": "execute_result"
    },
    {
     "data": {
      "image/png": "[encoded data removed]",
      "text/plain": [
       "<Figure size 640x480 with 1 Axes>"
      ]
     },
     "metadata": {},
     "output_type": "display_data"
    }
   ],
   "source": [
    "sns.countplot(x=\"lunch\", data=df_stu)"
   ]
  },
  {
   "cell_type": "markdown",
   "id": "da4572fa-7ade-4855-a5bf-7adc0198c7e8",
   "metadata": {},
   "source": [
    "Proxy 30% of students had free/reduced lunch, which means that the most common group of students are commonly middle-class. "
   ]
  },
  {
   "cell_type": "code",
   "execution_count": 64,
   "id": "525784d3-af7f-45fa-b9bc-76d0ad82e2e2",
   "metadata": {},
   "outputs": [
    {
     "data": {
      "text/plain": [
       "<Axes: xlabel='test preparation course', ylabel='count'>"
      ]
     },
     "execution_count": 64,
     "metadata": {},
     "output_type": "execute_result"
    },
    {
     "data": {
      "image/png": "[encoded data removed]",
      "text/plain": [
       "<Figure size 640x480 with 1 Axes>"
      ]
     },
     "metadata": {},
     "output_type": "display_data"
    }
   ],
   "source": [
    "sns.countplot(x=\"test preparation course\", data=df_stu)"
   ]
  },
  {
   "cell_type": "markdown",
   "id": "ac187f1e-34ab-4110-81ff-c7a5812b6fe5",
   "metadata": {},
   "source": [
    "More than 30% aprox of students took the test preparation course, which show us the majority of students will need to be pushed at the beggining of course. "
   ]
  },
  {
   "cell_type": "code",
   "execution_count": null,
   "id": "5a70096b-c181-436f-af98-165f7b40dc7a",
   "metadata": {},
   "outputs": [],
   "source": []
  },
  {
   "cell_type": "code",
   "execution_count": null,
   "id": "5dacc698-ee57-428f-bf1e-40117ed5772c",
   "metadata": {},
   "outputs": [],
   "source": []
  }
 ],
 "metadata": {
  "kernelspec": {
   "display_name": "Python 3 (ipykernel)",
   "language": "python",
   "name": "python3"
  },
  "language_info": {
   "codemirror_mode": {
    "name": "ipython",
    "version": 3
   },
   "file_extension": ".py",
   "mimetype": "text/x-python",
   "name": "python",
   "nbconvert_exporter": "python",
   "pygments_lexer": "ipython3",
   "version": "3.11.7"
  }
 },
 "nbformat": 4,
 "nbformat_minor": 5
}
