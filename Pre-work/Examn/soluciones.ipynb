{
 "cells": [
  {
   "cell_type": "markdown",
   "id": "f8da31ec-6335-4313-bb96-94104d750812",
   "metadata": {},
   "source": [
    "Task\r\n",
    "Given an array of integers your solution should find the smallest integer.\r\n",
    "\r\n",
    "Examples\r\n",
    "Input\tOutput\r\n",
    "[34, 15, 88, 2]\t2\r\n",
    "[34, -345, -1, 100]\t-345\r\n",
    "Documentation\r\n",
    "findSmallest(numbers)\r\n",
    "Parameters:\r\n",
    "numbers: Array<int>\r\n",
    "A non-empty array of integers.\r\n",
    "\r\n",
    "Guaranteed Constraints:\r\n",
    "All numbers are valid Int32, no need to validate them.\r\n",
    "The array will never be null or undefined.\r\n",
    "There will always be at least one number in the input array.\r\n",
    "Returns: int\r\n",
    "The lowest integer value in the array."
   ]
  },
  {
   "cell_type": "code",
   "execution_count": null,
   "id": "ec0b6104-a9e2-4443-a942-9affdbac9705",
   "metadata": {},
   "outputs": [],
   "source": [
    "def find_smallest(numbers: list) -> int:\n",
    "    return min(numbers)"
   ]
  },
  {
   "cell_type": "code",
   "execution_count": null,
   "id": "cdad947a-79a5-43c2-8c8c-7e7a5d943cf1",
   "metadata": {},
   "outputs": [],
   "source": [
    "def find_smallest(numbers):\n",
    "  return min(numbers)"
   ]
  },
  {
   "cell_type": "markdown",
   "id": "8d2aa83e-3975-493b-bd6c-999544229403",
   "metadata": {},
   "source": [
    "Task\r\n",
    "ATM machines allow 4 or 6 digit PIN codes and PIN codes cannot contain anything but exactly 4 digits or exactly 6 digits.\r\n",
    "\r\n",
    "If the function is passed a valid PIN string, return true, else return false.\r\n",
    "\r\n",
    "Specification\r\n",
    "valid_pin(input)\r\n",
    "Parameters\r\n",
    "input: String - The string to be validated\r\n",
    "\r\n",
    "Return Value\r\n",
    "Boolean - Return true if the input string is exactly 4 or 6 characters long, and only contains digits (0 to 9).\r\n",
    "\r\n",
    "Constraints\r\n",
    "input will always be a valid string\r\n",
    "\r\n",
    "Examples\r\n",
    "input\tReturn Value\r\n",
    "\"1234\"\ttrue\r\n",
    "\"654321\"\ttrue\r\n",
    "\"12345\"\tfalse\r\n",
    "\"a234\"\tfalse\r\n",
    "\"\"\tfalse"
   ]
  },
  {
   "cell_type": "code",
   "execution_count": null,
   "id": "45a40a3f-48e6-45c1-a7f8-3eb5ae042cf4",
   "metadata": {},
   "outputs": [],
   "source": [
    "def valid_pin(pin: str) -> bool:\n",
    "  return len(pin) in (4, 6) and pin.isdigit()"
   ]
  },
  {
   "cell_type": "code",
   "execution_count": null,
   "id": "f4dc748b-1a22-4ec3-9ec3-82e8342dd7d3",
   "metadata": {},
   "outputs": [],
   "source": [
    "def valid_pin(pin):\n",
    "  if pin.isdigit() == False:\n",
    "    return False\n",
    "  elif int(pin) < 0:\n",
    "    return False\n",
    "  elif len(pin) ==4:\n",
    "    return True\n",
    "  elif len(pin) == 6:\n",
    "    return True\n",
    "  else: \n",
    "    return False"
   ]
  },
  {
   "cell_type": "markdown",
   "id": "4cfa356f-68dd-451e-8e16-032542716e70",
   "metadata": {},
   "source": [
    "O NOT CHANGE THE FUNCTION SIGNATURE IN THE SOLUTION AREA\r\n",
    "\r\n",
    "Instructions\r\n",
    "Given a String,\r\n",
    "\r\n",
    "return the integer 1 if the String begins with the character capital A, lowercase a, or 1\r\n",
    "return the integer 0 if the String begins with the character capital B, lowercase b, or 2\r\n",
    "return -1 if the String begins with any other character.\r\n",
    "Samples\r\n",
    "input: \"able\"\r\n",
    "output: 1\r\n",
    "\r\n",
    "input: \"Art\"\r\n",
    "output: 1\r\n",
    "\r\n",
    "input: \"blanket\"\r\n",
    "output: 0\r\n",
    "\r\n",
    "input: \"2run\"\r\n",
    "output: 0\r\n",
    "\r\n",
    "input: \"football\"\r\n",
    "output: -1\r\n",
    "\r\n",
    "input: \"!!ah\"\r\n",
    "output: -1\r\n",
    "\r\n"
   ]
  },
  {
   "cell_type": "code",
   "execution_count": null,
   "id": "45c8af63-e482-4b67-b198-fc43b6783745",
   "metadata": {},
   "outputs": [],
   "source": [
    "def alphabetor(word):\n",
    "    x = word[0]\n",
    "    if x == 'a' or x == 'A'or x == '1':\n",
    "      return 1\n",
    "    elif x == 'b' or x == 'B'or x == '2':\n",
    "      return 0\n",
    "    else:\n",
    "      return -1"
   ]
  },
  {
   "cell_type": "code",
   "execution_count": null,
   "id": "2797f06a-e112-4904-89dd-f03eddefbd11",
   "metadata": {},
   "outputs": [],
   "source": [
    "def alphabetor(word):\n",
    "    if word.startswith(\"A\") or word.startswith(\"a\") or word.startswith(\"1\"):\n",
    "      return 1\n",
    "    elif word.startswith(\"B\") or word.startswith(\"b\") or word.startswith(\"2\"): \n",
    "      return 0\n",
    "    else:\n",
    "      return -1 "
   ]
  },
  {
   "cell_type": "markdown",
   "id": "07a311ff-bd65-4d4a-a516-8c7892d8bfed",
   "metadata": {},
   "source": [
    "Task\r\n",
    "If we list all the natural numbers below 10 that are multiples of 3 or 5, we get 3, 5, 6 and 9. The sum of these multiples is 23.\r\n",
    "\r\n",
    "Complete the function multiples_of_3_and_5 so that it returns the sum of all the multiples of 3 or 5 below the number passed in.\r\n",
    "\r\n",
    "Specification\r\n",
    "multiples_of_3_and_5(number)\r\n",
    "Finds the sum of multiples of 3 or 5 that are less than the provided number\r\n",
    "\r\n",
    "Parameters\r\n",
    "number: Integer - Maximum number to check against\r\n",
    "\r\n",
    "Return Value\r\n",
    "Integer - Sum of all multiples of either 3 or 5\r\n",
    "\r\n",
    "Examples\r\n",
    "number\tReturn Value\r\n",
    "10\t23\r\n",
    "200\t9168\r\n"
   ]
  },
  {
   "cell_type": "code",
   "execution_count": null,
   "id": "9972b7bd-bd9f-45d1-a618-c94b347ef5ed",
   "metadata": {},
   "outputs": [],
   "source": [
    "def multiples_of_3_and_5(number):\n",
    "    return sum([x for x in range(number) if x % 3 == 0 or x % 5 == 0])"
   ]
  },
  {
   "cell_type": "code",
   "execution_count": null,
   "id": "1402b76f-c63f-416f-bbd4-a47f5e78d617",
   "metadata": {},
   "outputs": [],
   "source": [
    "def multiples_of_3_and_5(number):\n",
    "  result = []\n",
    "  for i in range(1, number):\n",
    "    if i % 3 == 0 or i % 5 ==0:\n",
    "      result.append(i)\n",
    "  return sum(result)\n",
    "pass"
   ]
  },
  {
   "cell_type": "markdown",
   "id": "765efe76-5843-4ea9-b9a8-5526c7a266b9",
   "metadata": {},
   "source": [
    "O NOT CHANGE THE FUNCTION SIGNATURE IN THE SOLUTION AREA\r\n",
    "\r\n",
    "Instructions\r\n",
    "Given a number n return the difference of n and the sum of all multiples of 4 or 9 between 1 and n inclusively.\r\n",
    "\r\n",
    "multiple: a number that may be divided by another number without a remainder\r\n",
    "\r\n",
    "Example\r\n",
    "Suppose n is 10.\r\n",
    "The multiples of 4 from 1 to 10 are 4 and 8.\r\n",
    "The multiples of 9 from 1 to 10 are 9.\r\n",
    "\r\n",
    "The difference between 10 and the sum of 4, 8 and 9 is -11\r\n",
    "because 10 - (4 + 8 + 9) = -11.\r\n",
    "\r\n",
    "Samples\r\n",
    "input: 7\r\n",
    "output: 3\r\n",
    "\r\n",
    "input: 9\r\n",
    "output: -12\r\n",
    "\r\n",
    "input: 19\r\n",
    "output: -48\r\n",
    "\r\n",
    "input: 20\r\n",
    "output: -67\r\n",
    "\r\n"
   ]
  },
  {
   "cell_type": "code",
   "execution_count": null,
   "id": "dbff0d27-4499-417e-aa09-dfca390edf58",
   "metadata": {},
   "outputs": [],
   "source": [
    "def differenceOfMultiples(n):\n",
    "  sum = 0\n",
    "  for x in range(n+1):\n",
    "    if x%4 == 0 or x%9 == 0:\n",
    "      sum += x\n",
    "  return n-sum"
   ]
  },
  {
   "cell_type": "code",
   "execution_count": null,
   "id": "7181b738-d450-4952-b908-ed6137c0d9ca",
   "metadata": {},
   "outputs": [],
   "source": [
    "def differenceOfMultiples(number):\n",
    "  totalsum = 0\n",
    "  for i in range (1, number + 1 ):\n",
    "    if i % 4 == 0 or i % 9 == 0:\n",
    "        totalsum += i\n",
    "  return number - totalsum"
   ]
  },
  {
   "cell_type": "code",
   "execution_count": null,
   "id": "d38a1927-0c95-4bfe-a703-b15e21a56ced",
   "metadata": {},
   "outputs": [],
   "source": []
  },
  {
   "cell_type": "code",
   "execution_count": null,
   "id": "32ec6afb-9eed-4632-98e4-3440e351da91",
   "metadata": {},
   "outputs": [],
   "source": []
  },
  {
   "cell_type": "code",
   "execution_count": null,
   "id": "f3b6ac0a-d892-4f41-9eb6-69193a51b24d",
   "metadata": {},
   "outputs": [],
   "source": []
  },
  {
   "cell_type": "code",
   "execution_count": null,
   "id": "1d3049fe-d03c-435f-9a65-a5ee876183f5",
   "metadata": {},
   "outputs": [],
   "source": []
  }
 ],
 "metadata": {
  "kernelspec": {
   "display_name": "Python 3 (ipykernel)",
   "language": "python",
   "name": "python3"
  },
  "language_info": {
   "codemirror_mode": {
    "name": "ipython",
    "version": 3
   },
   "file_extension": ".py",
   "mimetype": "text/x-python",
   "name": "python",
   "nbconvert_exporter": "python",
   "pygments_lexer": "ipython3",
   "version": "3.11.7"
  }
 },
 "nbformat": 4,
 "nbformat_minor": 5
}
